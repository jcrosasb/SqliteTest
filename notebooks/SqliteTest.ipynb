{
 "cells": [
  {
   "cell_type": "code",
   "execution_count": 1,
   "id": "2cefd8ff",
   "metadata": {},
   "outputs": [
    {
     "name": "stdout",
     "output_type": "stream",
     "text": [
      "Requirement already satisfied: pandas in /Users/juanrosas/opt/miniconda3/lib/python3.9/site-packages (1.4.3)\n",
      "Requirement already satisfied: numpy>=1.18.5 in /Users/juanrosas/opt/miniconda3/lib/python3.9/site-packages (from pandas) (1.23.1)\n",
      "Requirement already satisfied: pytz>=2020.1 in /Users/juanrosas/opt/miniconda3/lib/python3.9/site-packages (from pandas) (2022.1)\n",
      "Requirement already satisfied: python-dateutil>=2.8.1 in /Users/juanrosas/opt/miniconda3/lib/python3.9/site-packages (from pandas) (2.8.2)\n",
      "Requirement already satisfied: six>=1.5 in /Users/juanrosas/opt/miniconda3/lib/python3.9/site-packages (from python-dateutil>=2.8.1->pandas) (1.16.0)\n",
      "Note: you may need to restart the kernel to use updated packages.\n"
     ]
    }
   ],
   "source": [
    "pip install pandas"
   ]
  },
  {
   "cell_type": "code",
   "execution_count": 2,
   "id": "26eb9307",
   "metadata": {},
   "outputs": [],
   "source": [
    "import sqlite3\n",
    "import pandas as pd"
   ]
  },
  {
   "cell_type": "code",
   "execution_count": 3,
   "id": "ccae4c75",
   "metadata": {},
   "outputs": [],
   "source": [
    "def sql_table(table_name, file, append=False):\n",
    "    \"\"\"Populates SQL table for further querying\n",
    "            table_name: name of table in database\n",
    "            file: external file (with path included) from which data will be obtained\n",
    "            append: by default, append mode is False. If True, data will be appended to table\"\"\"\n",
    "\n",
    "    table_test = pd.read_csv(file)\n",
    "\n",
    "    # Check if table exists already If yes, table_found = 1, otherwise table_found = 0\n",
    "    table_found = c.execute(''' SELECT count(name) FROM sqlite_master WHERE type='table' \n",
    "    AND name='table_test' ''').fetchall()[0][0]\n",
    "\n",
    "    if table_found == 0:\n",
    "\n",
    "        # Create table\n",
    "        c.execute('''CREATE TABLE ''' + table_name + '''(id_agn int, agn_name text, last_name text,\n",
    "        agn_email text, id_team\tint, id_skill int, agn_mod_datetime text, agn_last_login text, agn_status text)''')\n",
    "\n",
    "        # Populate table\n",
    "        for i in range(table_test.shape[0]):\n",
    "            c.execute('''INSERT INTO ''' + table_name + ''' (id_agn, agn_name, last_name, agn_email, id_team, id_skill,\n",
    "            agn_mod_datetime, agn_last_login, agn_status) VALUES(?, ?, ?, ?, ?, ?, ?, ?, ?) ''',\n",
    "                      (int(table_test.iloc[i, 0]), table_test.iloc[i, 1], table_test.iloc[i, 2], table_test.iloc[i, 3],\n",
    "                       int(table_test.iloc[i, 4]), int(table_test.iloc[i, 5]), table_test.iloc[i, 6], table_test.iloc[i, 7],\n",
    "                       table_test.iloc[i, 8]))\n",
    "    else:\n",
    "        if append is True:\n",
    "            # Populate table\n",
    "            for i in range(table_test.shape[0]):\n",
    "                c.execute('''INSERT INTO ''' + table_name + ''' (id_agn, agn_name, last_name, agn_email, id_team, id_skill,\n",
    "                agn_mod_datetime, agn_last_login, agn_status) VALUES(?, ?, ?, ?, ?, ?, ?, ?, ?) ''',\n",
    "                          (int(table_test.iloc[i, 0]), table_test.iloc[i, 1], table_test.iloc[i, 2], table_test.iloc[i, 3],\n",
    "                           int(table_test.iloc[i, 4]), int(table_test.iloc[i, 5]), table_test.iloc[i, 6], table_test.iloc[i, 7],\n",
    "                           table_test.iloc[i, 8]))\n",
    "\n",
    "    conn.commit()"
   ]
  },
  {
   "cell_type": "code",
   "execution_count": 4,
   "id": "86a0a44c",
   "metadata": {},
   "outputs": [],
   "source": [
    "def sql_query(table_name, columns=None, instruction=''):\n",
    "    \"\"\"Queries table 'table_name'.\n",
    "            columns: list containing the columns to be queried (i.e. columns=['col_1', ..., 'col_n']).\n",
    "                      If not provided, then all columns will be queried (i.e. columns = ['*'])\n",
    "            instruction: string containing any additional instructions (i.e. instruction='WHERE age = 10')\"\"\"\n",
    "\n",
    "    if columns is None:\n",
    "        columns = ['*']\n",
    "    if instruction == '':\n",
    "        query = 'SELECT ' + ', '.join([col for col in columns]) + ' FROM ' + table_name\n",
    "    else:\n",
    "        query = 'SELECT ' + ', '.join([col for col in columns]) + ' FROM ' + table_name + ' ' + instruction\n",
    "\n",
    "    print(query, '\\n')\n",
    "    c.execute(query)\n",
    "    rows = c.fetchall()\n",
    "    for row in rows:\n",
    "        print(row)"
   ]
  },
  {
   "cell_type": "code",
   "execution_count": 8,
   "id": "932dad70",
   "metadata": {},
   "outputs": [],
   "source": [
    "database = '../data/raw/sqlite_test.db'\n",
    "conn = sqlite3.connect(database)\n",
    "c = conn.cursor()"
   ]
  },
  {
   "cell_type": "code",
   "execution_count": 12,
   "id": "20cecc12",
   "metadata": {},
   "outputs": [],
   "source": [
    "sql_table(table_name='table_test', file='../data/raw/sqlite_test.csv')"
   ]
  },
  {
   "cell_type": "code",
   "execution_count": 13,
   "id": "33bcecb6",
   "metadata": {},
   "outputs": [
    {
     "name": "stdout",
     "output_type": "stream",
     "text": [
      "SELECT agn_name, last_name, agn_email FROM table_test WHERE agn_name = 'Derek' \n",
      "\n",
      "('Derek', 'Jeter', 'djeter@nice.team.org')\n"
     ]
    }
   ],
   "source": [
    "sql_query(table_name='table_test', columns=['agn_name', 'last_name', 'agn_email'], instruction=\"WHERE agn_name = 'Derek'\")"
   ]
  },
  {
   "cell_type": "code",
   "execution_count": null,
   "id": "d9e6edf8",
   "metadata": {},
   "outputs": [],
   "source": []
  }
 ],
 "metadata": {
  "kernelspec": {
   "display_name": "Python 3 (ipykernel)",
   "language": "python",
   "name": "python3"
  },
  "language_info": {
   "codemirror_mode": {
    "name": "ipython",
    "version": 3
   },
   "file_extension": ".py",
   "mimetype": "text/x-python",
   "name": "python",
   "nbconvert_exporter": "python",
   "pygments_lexer": "ipython3",
   "version": "3.9.12"
  }
 },
 "nbformat": 4,
 "nbformat_minor": 5
}
